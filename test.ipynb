{
 "cells": [
  {
   "cell_type": "code",
   "execution_count": null,
   "metadata": {},
   "outputs": [
    {
     "name": "stdout",
     "output_type": "stream",
     "text": [
      "(20640, 8) (20640,)\n",
      "model loaded\n",
      "before for loop\n",
      "before fit\n",
      "Training fold 1/5...\n",
      "Fitting estimator 1/100\n",
      "Fitting estimator 2/100\n",
      "Fitting estimator 3/100\n",
      "Fitting estimator 4/100\n",
      "Fitting estimator 5/100\n",
      "Fitting estimator 6/100\n",
      "Fitting estimator 7/100\n",
      "Fitting estimator 8/100\n",
      "Fitting estimator 9/100\n",
      "Fitting estimator 10/100\n",
      "Fitting estimator 11/100\n",
      "Fitting estimator 12/100\n",
      "Fitting estimator 13/100\n",
      "Fitting estimator 14/100\n",
      "Fitting estimator 15/100\n",
      "Fitting estimator 16/100\n",
      "Fitting estimator 17/100\n",
      "Fitting estimator 18/100\n",
      "Fitting estimator 19/100\n",
      "Fitting estimator 20/100\n",
      "Fitting estimator 21/100\n",
      "Fitting estimator 22/100\n",
      "Fitting estimator 23/100\n",
      "Fitting estimator 24/100\n",
      "Fitting estimator 25/100\n",
      "Fitting estimator 26/100\n",
      "Fitting estimator 27/100\n",
      "Fitting estimator 28/100\n",
      "Fitting estimator 29/100\n"
     ]
    }
   ],
   "source": [
    "from src.utils import load_data, calculate_rmse, cross_validate\n",
    "from src.gradient_boosting import GradientBoosting\n",
    "from src.hyperparameter_tuning import grid_search\n",
    "\n",
    "# Load data\n",
    "X, y = load_data(\"california_housing\")\n",
    "print(X.shape, y.shape)\n",
    "\n",
    "# Cross-validation with default parameters\n",
    "\n",
    "model = GradientBoosting(verbose=True)\n",
    "print(\"model loaded\")\n",
    "mean_score, std_score = cross_validate(model, X, y, task=\"regression\")\n",
    "print(f\"Baseline RMSE: {mean_score:.2f} ± {std_score:.2f}\")\n",
    "\n",
    "# Hyperparameter tuning\n",
    "param_grid = {\n",
    "    \"n_estimators\": [50, 100],\n",
    "    \"learning_rate\": [0.1, 0.05],\n",
    "    \"max_depth\": [3, 5],\n",
    "    \"reg_lambda\": [1.0, 0.5],\n",
    "    \"reg_alpha\": [0.0, 0.1],\n",
    "    \"colsample\": [0.8, 1.0]\n",
    "}\n",
    "print(\"second stage- parameter grid\")\n",
    "\n",
    "best_params, best_score, all_scores = grid_search(X, y, param_grid, task='regression')\n",
    "print(\"Best Parameters:\", best_params)\n",
    "print(\"Best Cross-Validation RMSE:\", best_score)\n",
    "\n",
    "# Train final model with best parameters on full dataset\n",
    "final_model = GradientBoosting(**best_params)\n",
    "final_model.fit(X, y)2"
   ]
  },
  {
   "cell_type": "code",
   "execution_count": null,
   "metadata": {},
   "outputs": [],
   "source": []
  }
 ],
 "metadata": {
  "kernelspec": {
   "display_name": "Python 3",
   "language": "python",
   "name": "python3"
  },
  "language_info": {
   "codemirror_mode": {
    "name": "ipython",
    "version": 3
   },
   "file_extension": ".py",
   "mimetype": "text/x-python",
   "name": "python",
   "nbconvert_exporter": "python",
   "pygments_lexer": "ipython3",
   "version": "3.12.6"
  }
 },
 "nbformat": 4,
 "nbformat_minor": 2
}
